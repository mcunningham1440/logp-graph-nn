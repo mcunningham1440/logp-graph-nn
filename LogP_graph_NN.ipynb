{
  "nbformat": 4,
  "nbformat_minor": 0,
  "metadata": {
    "colab": {
      "provenance": []
    },
    "kernelspec": {
      "name": "python3",
      "display_name": "Python 3"
    },
    "language_info": {
      "name": "python"
    }
  },
  "cells": [
    {
      "cell_type": "code",
      "source": [
        "!pip install pyg_lib torch_scatter torch_sparse torch_cluster torch_spline_conv torch_geometric rdkit -f https://data.pyg.org/whl/torch-1.13.0+cu117.html"
      ],
      "metadata": {
        "colab": {
          "base_uri": "https://localhost:8080/"
        },
        "id": "AyluetnyUh0X",
        "outputId": "cab44c12-8cdb-4beb-836a-49a22a2c2db7"
      },
      "execution_count": 1,
      "outputs": [
        {
          "output_type": "stream",
          "name": "stdout",
          "text": [
            "Looking in indexes: https://pypi.org/simple, https://us-python.pkg.dev/colab-wheels/public/simple/\n",
            "Looking in links: https://data.pyg.org/whl/torch-1.13.0+cu117.html\n",
            "Collecting pyg_lib\n",
            "  Downloading https://data.pyg.org/whl/torch-1.13.0%2Bcu117/pyg_lib-0.1.0%2Bpt113cu117-cp39-cp39-linux_x86_64.whl (1.9 MB)\n",
            "\u001b[2K     \u001b[90m━━━━━━━━━━━━━━━━━━━━━━━━━━━━━━━━━━━━━━━━\u001b[0m \u001b[32m1.9/1.9 MB\u001b[0m \u001b[31m10.9 MB/s\u001b[0m eta \u001b[36m0:00:00\u001b[0m\n",
            "\u001b[?25hCollecting torch_scatter\n",
            "  Downloading https://data.pyg.org/whl/torch-1.13.0%2Bcu117/torch_scatter-2.1.1%2Bpt113cu117-cp39-cp39-linux_x86_64.whl (10.1 MB)\n",
            "\u001b[2K     \u001b[90m━━━━━━━━━━━━━━━━━━━━━━━━━━━━━━━━━━━━━━━━\u001b[0m \u001b[32m10.1/10.1 MB\u001b[0m \u001b[31m28.1 MB/s\u001b[0m eta \u001b[36m0:00:00\u001b[0m\n",
            "\u001b[?25hCollecting torch_sparse\n",
            "  Downloading https://data.pyg.org/whl/torch-1.13.0%2Bcu117/torch_sparse-0.6.17%2Bpt113cu117-cp39-cp39-linux_x86_64.whl (4.7 MB)\n",
            "\u001b[2K     \u001b[90m━━━━━━━━━━━━━━━━━━━━━━━━━━━━━━━━━━━━━━━━\u001b[0m \u001b[32m4.7/4.7 MB\u001b[0m \u001b[31m20.7 MB/s\u001b[0m eta \u001b[36m0:00:00\u001b[0m\n",
            "\u001b[?25hCollecting torch_cluster\n",
            "  Downloading https://data.pyg.org/whl/torch-1.13.0%2Bcu117/torch_cluster-1.6.1%2Bpt113cu117-cp39-cp39-linux_x86_64.whl (3.2 MB)\n",
            "\u001b[2K     \u001b[90m━━━━━━━━━━━━━━━━━━━━━━━━━━━━━━━━━━━━━━━━\u001b[0m \u001b[32m3.2/3.2 MB\u001b[0m \u001b[31m19.8 MB/s\u001b[0m eta \u001b[36m0:00:00\u001b[0m\n",
            "\u001b[?25hCollecting torch_spline_conv\n",
            "  Downloading https://data.pyg.org/whl/torch-1.13.0%2Bcu117/torch_spline_conv-1.2.2%2Bpt113cu117-cp39-cp39-linux_x86_64.whl (872 kB)\n",
            "\u001b[2K     \u001b[90m━━━━━━━━━━━━━━━━━━━━━━━━━━━━━━━━━━━━━━━\u001b[0m \u001b[32m872.2/872.2 KB\u001b[0m \u001b[31m7.4 MB/s\u001b[0m eta \u001b[36m0:00:00\u001b[0m\n",
            "\u001b[?25hCollecting torch_geometric\n",
            "  Downloading torch_geometric-2.2.0.tar.gz (564 kB)\n",
            "\u001b[2K     \u001b[90m━━━━━━━━━━━━━━━━━━━━━━━━━━━━━━━━━━━━━━━\u001b[0m \u001b[32m565.0/565.0 KB\u001b[0m \u001b[31m7.9 MB/s\u001b[0m eta \u001b[36m0:00:00\u001b[0m\n",
            "\u001b[?25h  Preparing metadata (setup.py) ... \u001b[?25l\u001b[?25hdone\n",
            "Collecting rdkit\n",
            "  Downloading rdkit-2022.9.5-cp39-cp39-manylinux_2_17_x86_64.manylinux2014_x86_64.whl (29.4 MB)\n",
            "\u001b[2K     \u001b[90m━━━━━━━━━━━━━━━━━━━━━━━━━━━━━━━━━━━━━━━━\u001b[0m \u001b[32m29.4/29.4 MB\u001b[0m \u001b[31m13.8 MB/s\u001b[0m eta \u001b[36m0:00:00\u001b[0m\n",
            "\u001b[?25hRequirement already satisfied: scipy in /usr/local/lib/python3.9/dist-packages (from torch_sparse) (1.10.1)\n",
            "Requirement already satisfied: tqdm in /usr/local/lib/python3.9/dist-packages (from torch_geometric) (4.65.0)\n",
            "Requirement already satisfied: numpy in /usr/local/lib/python3.9/dist-packages (from torch_geometric) (1.22.4)\n",
            "Requirement already satisfied: jinja2 in /usr/local/lib/python3.9/dist-packages (from torch_geometric) (3.1.2)\n",
            "Requirement already satisfied: requests in /usr/local/lib/python3.9/dist-packages (from torch_geometric) (2.27.1)\n",
            "Requirement already satisfied: pyparsing in /usr/local/lib/python3.9/dist-packages (from torch_geometric) (3.0.9)\n",
            "Requirement already satisfied: scikit-learn in /usr/local/lib/python3.9/dist-packages (from torch_geometric) (1.2.2)\n",
            "Requirement already satisfied: psutil>=5.8.0 in /usr/local/lib/python3.9/dist-packages (from torch_geometric) (5.9.4)\n",
            "Requirement already satisfied: Pillow in /usr/local/lib/python3.9/dist-packages (from rdkit) (8.4.0)\n",
            "Requirement already satisfied: MarkupSafe>=2.0 in /usr/local/lib/python3.9/dist-packages (from jinja2->torch_geometric) (2.1.2)\n",
            "Requirement already satisfied: idna<4,>=2.5 in /usr/local/lib/python3.9/dist-packages (from requests->torch_geometric) (3.4)\n",
            "Requirement already satisfied: urllib3<1.27,>=1.21.1 in /usr/local/lib/python3.9/dist-packages (from requests->torch_geometric) (1.26.15)\n",
            "Requirement already satisfied: charset-normalizer~=2.0.0 in /usr/local/lib/python3.9/dist-packages (from requests->torch_geometric) (2.0.12)\n",
            "Requirement already satisfied: certifi>=2017.4.17 in /usr/local/lib/python3.9/dist-packages (from requests->torch_geometric) (2022.12.7)\n",
            "Requirement already satisfied: threadpoolctl>=2.0.0 in /usr/local/lib/python3.9/dist-packages (from scikit-learn->torch_geometric) (3.1.0)\n",
            "Requirement already satisfied: joblib>=1.1.1 in /usr/local/lib/python3.9/dist-packages (from scikit-learn->torch_geometric) (1.1.1)\n",
            "Building wheels for collected packages: torch_geometric\n",
            "  Building wheel for torch_geometric (setup.py) ... \u001b[?25l\u001b[?25hdone\n",
            "  Created wheel for torch_geometric: filename=torch_geometric-2.2.0-py3-none-any.whl size=773302 sha256=353f487456e1f9c81bcf0fb6bcf4e3d6696bdcb8d25ec5f6ccbbec8aa9ab6b18\n",
            "  Stored in directory: /root/.cache/pip/wheels/31/b2/8c/9b4bb72a4384eabd1ffeab2b7ead692c9165e35711f8a9dc72\n",
            "Successfully built torch_geometric\n",
            "Installing collected packages: torch_spline_conv, torch_scatter, rdkit, pyg_lib, torch_sparse, torch_cluster, torch_geometric\n",
            "Successfully installed pyg_lib-0.1.0+pt113cu117 rdkit-2022.9.5 torch_cluster-1.6.1+pt113cu117 torch_geometric-2.2.0 torch_scatter-2.1.1+pt113cu117 torch_sparse-0.6.17+pt113cu117 torch_spline_conv-1.2.2+pt113cu117\n"
          ]
        }
      ]
    },
    {
      "cell_type": "code",
      "execution_count": 33,
      "metadata": {
        "id": "SiDHcmvEUMb8"
      },
      "outputs": [],
      "source": [
        "import torch\n",
        "import torch_geometric\n",
        "import pandas as pd\n",
        "import numpy as np"
      ]
    },
    {
      "cell_type": "code",
      "source": [
        "logp_dataset = pd.read_csv('Final MFLOGP Dataset.csv')\n",
        "\n",
        "logp_dataset.head()"
      ],
      "metadata": {
        "colab": {
          "base_uri": "https://localhost:8080/",
          "height": 354
        },
        "id": "gw55FFzRU9zJ",
        "outputId": "69742dc1-a009-491c-c97e-70587c1a4511"
      },
      "execution_count": 22,
      "outputs": [
        {
          "output_type": "execute_result",
          "data": {
            "text/plain": [
              "                                               Names     Formula       CAS No  \\\n",
              "0                                       formaldehyde      C1H2O1  000050-00-0   \n",
              "1  9-fluoro-11,17-dihydroxy-17-(2-hydroxyacetyl)-...  C22H29F1O5  000378-44-9   \n",
              "2  [2-(11,17-dihydroxy-10,13-dimethyl-3-oxo-2,6,7...    C23H32O6  000050-03-3   \n",
              "3  [2-(17-hydroxy-10,13-dimethyl-3,11-dioxo-1,2,6...    C23H30O6  000050-04-4   \n",
              "4        5-ethyl-5-phenyl-1,3-diazinane-2,4,6-trione  C12H12N2O3  000050-06-6   \n",
              "\n",
              "                                              SMILES                Reference  \\\n",
              "0                                                C=O  hansch,c et al. (1995)    \n",
              "1  CC1CC2C3CCC4=CC(=O)C=CC4(C)C3(F)C(O)CC2(C)C1(O...  hansch,c et al. (1995)    \n",
              "2  CC(=O)OCC(=O)C1(O)CCC2C3CCC4=CC(=O)CCC4(C)C3C(...  hansch,c et al. (1995)    \n",
              "3  CC(=O)OCC(=O)C1(O)CCC2C3CCC4=CC(=O)CCC4(C)C3C(...  hansch,c et al. (1995)    \n",
              "4                     CCC1(C(=O)NC(=O)NC1=O)c2ccccc2  hansch,c et al. (1995)    \n",
              "\n",
              "   Exp logp   C   H  N  O  S  P  F  Cl  Br  I  Unnamed: 16  Unnamed: 17  \\\n",
              "0      0.35   1   2  0  1  0  0  0   0   0  0          NaN            2   \n",
              "1      1.94  22  29  0  5  0  0  1   0   0  0          NaN           28   \n",
              "2      2.19  23  32  0  6  0  0  0   0   0  0          NaN           29   \n",
              "3      2.10  23  30  0  6  0  0  0   0   0  0          NaN           29   \n",
              "4      1.47  12  12  2  3  0  0  0   0   0  0          NaN           17   \n",
              "\n",
              "   Unnamed: 18  \n",
              "0         90.0  \n",
              "1          NaN  \n",
              "2          NaN  \n",
              "3          NaN  \n",
              "4          NaN  "
            ],
            "text/html": [
              "\n",
              "  <div id=\"df-c765450b-5b2b-43dd-943b-461f4826b0fd\">\n",
              "    <div class=\"colab-df-container\">\n",
              "      <div>\n",
              "<style scoped>\n",
              "    .dataframe tbody tr th:only-of-type {\n",
              "        vertical-align: middle;\n",
              "    }\n",
              "\n",
              "    .dataframe tbody tr th {\n",
              "        vertical-align: top;\n",
              "    }\n",
              "\n",
              "    .dataframe thead th {\n",
              "        text-align: right;\n",
              "    }\n",
              "</style>\n",
              "<table border=\"1\" class=\"dataframe\">\n",
              "  <thead>\n",
              "    <tr style=\"text-align: right;\">\n",
              "      <th></th>\n",
              "      <th>Names</th>\n",
              "      <th>Formula</th>\n",
              "      <th>CAS No</th>\n",
              "      <th>SMILES</th>\n",
              "      <th>Reference</th>\n",
              "      <th>Exp logp</th>\n",
              "      <th>C</th>\n",
              "      <th>H</th>\n",
              "      <th>N</th>\n",
              "      <th>O</th>\n",
              "      <th>S</th>\n",
              "      <th>P</th>\n",
              "      <th>F</th>\n",
              "      <th>Cl</th>\n",
              "      <th>Br</th>\n",
              "      <th>I</th>\n",
              "      <th>Unnamed: 16</th>\n",
              "      <th>Unnamed: 17</th>\n",
              "      <th>Unnamed: 18</th>\n",
              "    </tr>\n",
              "  </thead>\n",
              "  <tbody>\n",
              "    <tr>\n",
              "      <th>0</th>\n",
              "      <td>formaldehyde</td>\n",
              "      <td>C1H2O1</td>\n",
              "      <td>000050-00-0</td>\n",
              "      <td>C=O</td>\n",
              "      <td>hansch,c et al. (1995)</td>\n",
              "      <td>0.35</td>\n",
              "      <td>1</td>\n",
              "      <td>2</td>\n",
              "      <td>0</td>\n",
              "      <td>1</td>\n",
              "      <td>0</td>\n",
              "      <td>0</td>\n",
              "      <td>0</td>\n",
              "      <td>0</td>\n",
              "      <td>0</td>\n",
              "      <td>0</td>\n",
              "      <td>NaN</td>\n",
              "      <td>2</td>\n",
              "      <td>90.0</td>\n",
              "    </tr>\n",
              "    <tr>\n",
              "      <th>1</th>\n",
              "      <td>9-fluoro-11,17-dihydroxy-17-(2-hydroxyacetyl)-...</td>\n",
              "      <td>C22H29F1O5</td>\n",
              "      <td>000378-44-9</td>\n",
              "      <td>CC1CC2C3CCC4=CC(=O)C=CC4(C)C3(F)C(O)CC2(C)C1(O...</td>\n",
              "      <td>hansch,c et al. (1995)</td>\n",
              "      <td>1.94</td>\n",
              "      <td>22</td>\n",
              "      <td>29</td>\n",
              "      <td>0</td>\n",
              "      <td>5</td>\n",
              "      <td>0</td>\n",
              "      <td>0</td>\n",
              "      <td>1</td>\n",
              "      <td>0</td>\n",
              "      <td>0</td>\n",
              "      <td>0</td>\n",
              "      <td>NaN</td>\n",
              "      <td>28</td>\n",
              "      <td>NaN</td>\n",
              "    </tr>\n",
              "    <tr>\n",
              "      <th>2</th>\n",
              "      <td>[2-(11,17-dihydroxy-10,13-dimethyl-3-oxo-2,6,7...</td>\n",
              "      <td>C23H32O6</td>\n",
              "      <td>000050-03-3</td>\n",
              "      <td>CC(=O)OCC(=O)C1(O)CCC2C3CCC4=CC(=O)CCC4(C)C3C(...</td>\n",
              "      <td>hansch,c et al. (1995)</td>\n",
              "      <td>2.19</td>\n",
              "      <td>23</td>\n",
              "      <td>32</td>\n",
              "      <td>0</td>\n",
              "      <td>6</td>\n",
              "      <td>0</td>\n",
              "      <td>0</td>\n",
              "      <td>0</td>\n",
              "      <td>0</td>\n",
              "      <td>0</td>\n",
              "      <td>0</td>\n",
              "      <td>NaN</td>\n",
              "      <td>29</td>\n",
              "      <td>NaN</td>\n",
              "    </tr>\n",
              "    <tr>\n",
              "      <th>3</th>\n",
              "      <td>[2-(17-hydroxy-10,13-dimethyl-3,11-dioxo-1,2,6...</td>\n",
              "      <td>C23H30O6</td>\n",
              "      <td>000050-04-4</td>\n",
              "      <td>CC(=O)OCC(=O)C1(O)CCC2C3CCC4=CC(=O)CCC4(C)C3C(...</td>\n",
              "      <td>hansch,c et al. (1995)</td>\n",
              "      <td>2.10</td>\n",
              "      <td>23</td>\n",
              "      <td>30</td>\n",
              "      <td>0</td>\n",
              "      <td>6</td>\n",
              "      <td>0</td>\n",
              "      <td>0</td>\n",
              "      <td>0</td>\n",
              "      <td>0</td>\n",
              "      <td>0</td>\n",
              "      <td>0</td>\n",
              "      <td>NaN</td>\n",
              "      <td>29</td>\n",
              "      <td>NaN</td>\n",
              "    </tr>\n",
              "    <tr>\n",
              "      <th>4</th>\n",
              "      <td>5-ethyl-5-phenyl-1,3-diazinane-2,4,6-trione</td>\n",
              "      <td>C12H12N2O3</td>\n",
              "      <td>000050-06-6</td>\n",
              "      <td>CCC1(C(=O)NC(=O)NC1=O)c2ccccc2</td>\n",
              "      <td>hansch,c et al. (1995)</td>\n",
              "      <td>1.47</td>\n",
              "      <td>12</td>\n",
              "      <td>12</td>\n",
              "      <td>2</td>\n",
              "      <td>3</td>\n",
              "      <td>0</td>\n",
              "      <td>0</td>\n",
              "      <td>0</td>\n",
              "      <td>0</td>\n",
              "      <td>0</td>\n",
              "      <td>0</td>\n",
              "      <td>NaN</td>\n",
              "      <td>17</td>\n",
              "      <td>NaN</td>\n",
              "    </tr>\n",
              "  </tbody>\n",
              "</table>\n",
              "</div>\n",
              "      <button class=\"colab-df-convert\" onclick=\"convertToInteractive('df-c765450b-5b2b-43dd-943b-461f4826b0fd')\"\n",
              "              title=\"Convert this dataframe to an interactive table.\"\n",
              "              style=\"display:none;\">\n",
              "        \n",
              "  <svg xmlns=\"http://www.w3.org/2000/svg\" height=\"24px\"viewBox=\"0 0 24 24\"\n",
              "       width=\"24px\">\n",
              "    <path d=\"M0 0h24v24H0V0z\" fill=\"none\"/>\n",
              "    <path d=\"M18.56 5.44l.94 2.06.94-2.06 2.06-.94-2.06-.94-.94-2.06-.94 2.06-2.06.94zm-11 1L8.5 8.5l.94-2.06 2.06-.94-2.06-.94L8.5 2.5l-.94 2.06-2.06.94zm10 10l.94 2.06.94-2.06 2.06-.94-2.06-.94-.94-2.06-.94 2.06-2.06.94z\"/><path d=\"M17.41 7.96l-1.37-1.37c-.4-.4-.92-.59-1.43-.59-.52 0-1.04.2-1.43.59L10.3 9.45l-7.72 7.72c-.78.78-.78 2.05 0 2.83L4 21.41c.39.39.9.59 1.41.59.51 0 1.02-.2 1.41-.59l7.78-7.78 2.81-2.81c.8-.78.8-2.07 0-2.86zM5.41 20L4 18.59l7.72-7.72 1.47 1.35L5.41 20z\"/>\n",
              "  </svg>\n",
              "      </button>\n",
              "      \n",
              "  <style>\n",
              "    .colab-df-container {\n",
              "      display:flex;\n",
              "      flex-wrap:wrap;\n",
              "      gap: 12px;\n",
              "    }\n",
              "\n",
              "    .colab-df-convert {\n",
              "      background-color: #E8F0FE;\n",
              "      border: none;\n",
              "      border-radius: 50%;\n",
              "      cursor: pointer;\n",
              "      display: none;\n",
              "      fill: #1967D2;\n",
              "      height: 32px;\n",
              "      padding: 0 0 0 0;\n",
              "      width: 32px;\n",
              "    }\n",
              "\n",
              "    .colab-df-convert:hover {\n",
              "      background-color: #E2EBFA;\n",
              "      box-shadow: 0px 1px 2px rgba(60, 64, 67, 0.3), 0px 1px 3px 1px rgba(60, 64, 67, 0.15);\n",
              "      fill: #174EA6;\n",
              "    }\n",
              "\n",
              "    [theme=dark] .colab-df-convert {\n",
              "      background-color: #3B4455;\n",
              "      fill: #D2E3FC;\n",
              "    }\n",
              "\n",
              "    [theme=dark] .colab-df-convert:hover {\n",
              "      background-color: #434B5C;\n",
              "      box-shadow: 0px 1px 3px 1px rgba(0, 0, 0, 0.15);\n",
              "      filter: drop-shadow(0px 1px 2px rgba(0, 0, 0, 0.3));\n",
              "      fill: #FFFFFF;\n",
              "    }\n",
              "  </style>\n",
              "\n",
              "      <script>\n",
              "        const buttonEl =\n",
              "          document.querySelector('#df-c765450b-5b2b-43dd-943b-461f4826b0fd button.colab-df-convert');\n",
              "        buttonEl.style.display =\n",
              "          google.colab.kernel.accessAllowed ? 'block' : 'none';\n",
              "\n",
              "        async function convertToInteractive(key) {\n",
              "          const element = document.querySelector('#df-c765450b-5b2b-43dd-943b-461f4826b0fd');\n",
              "          const dataTable =\n",
              "            await google.colab.kernel.invokeFunction('convertToInteractive',\n",
              "                                                     [key], {});\n",
              "          if (!dataTable) return;\n",
              "\n",
              "          const docLinkHtml = 'Like what you see? Visit the ' +\n",
              "            '<a target=\"_blank\" href=https://colab.research.google.com/notebooks/data_table.ipynb>data table notebook</a>'\n",
              "            + ' to learn more about interactive tables.';\n",
              "          element.innerHTML = '';\n",
              "          dataTable['output_type'] = 'display_data';\n",
              "          await google.colab.output.renderOutput(dataTable, element);\n",
              "          const docLink = document.createElement('div');\n",
              "          docLink.innerHTML = docLinkHtml;\n",
              "          element.appendChild(docLink);\n",
              "        }\n",
              "      </script>\n",
              "    </div>\n",
              "  </div>\n",
              "  "
            ]
          },
          "metadata": {},
          "execution_count": 22
        }
      ]
    },
    {
      "cell_type": "code",
      "source": [
        "smiles_sample = logp_dataset[logp_dataset['Names'] == 'picloram'].iloc[0]['SMILES']\n",
        "\n",
        "graph_sample = torch_geometric.utils.smiles.from_smiles(smiles_sample)\n",
        "\n",
        "graph_sample"
      ],
      "metadata": {
        "colab": {
          "base_uri": "https://localhost:8080/"
        },
        "id": "0bP42QtcWVZY",
        "outputId": "15bb72b9-7d70-4014-84a2-1c4a2d1938e9"
      },
      "execution_count": 23,
      "outputs": [
        {
          "output_type": "execute_result",
          "data": {
            "text/plain": [
              "Data(x=[13, 9], edge_index=[2, 26], edge_attr=[26, 3], smiles='Nc1c(Cl)c(Cl)nc(C(O)=O)c1Cl')"
            ]
          },
          "metadata": {},
          "execution_count": 23
        }
      ]
    },
    {
      "cell_type": "markdown",
      "source": [
        "![160px-Picloram.png](data:image/png;base64,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)"
      ],
      "metadata": {
        "id": "F_nVYBMYP4NW"
      }
    },
    {
      "cell_type": "code",
      "source": [
        "# Atomic n, chirality, degree, formal charge, n hydrogens, n radical electrons, hybridization, aromatic?, in ring?\n",
        "\n",
        "print(graph_sample.x)"
      ],
      "metadata": {
        "colab": {
          "base_uri": "https://localhost:8080/"
        },
        "id": "Hvp0kIx9NYx9",
        "outputId": "84a01d5b-0ece-4761-aed7-7b5f096f8cac"
      },
      "execution_count": 25,
      "outputs": [
        {
          "output_type": "stream",
          "name": "stdout",
          "text": [
            "tensor([[ 7,  0,  3,  5,  2,  0,  3,  0,  0],\n",
            "        [ 6,  0,  3,  5,  0,  0,  3,  1,  1],\n",
            "        [ 6,  0,  3,  5,  0,  0,  3,  1,  1],\n",
            "        [17,  0,  1,  5,  0,  0,  4,  0,  0],\n",
            "        [ 6,  0,  3,  5,  0,  0,  3,  1,  1],\n",
            "        [17,  0,  1,  5,  0,  0,  4,  0,  0],\n",
            "        [ 7,  0,  2,  5,  0,  0,  3,  1,  1],\n",
            "        [ 6,  0,  3,  5,  0,  0,  3,  1,  1],\n",
            "        [ 6,  0,  3,  5,  0,  0,  3,  0,  0],\n",
            "        [ 8,  0,  2,  5,  1,  0,  3,  0,  0],\n",
            "        [ 8,  0,  1,  5,  0,  0,  3,  0,  0],\n",
            "        [ 6,  0,  3,  5,  0,  0,  3,  1,  1],\n",
            "        [17,  0,  1,  5,  0,  0,  4,  0,  0]])\n"
          ]
        }
      ]
    },
    {
      "cell_type": "code",
      "source": [
        "# Bond type, stereo, conjugated?\n",
        "\n",
        "print(graph_sample.edge_attr)"
      ],
      "metadata": {
        "colab": {
          "base_uri": "https://localhost:8080/"
        },
        "id": "mawYaTkVQ_0L",
        "outputId": "dd7960e6-e066-44ee-84f4-bc76a21510d0"
      },
      "execution_count": 29,
      "outputs": [
        {
          "output_type": "stream",
          "name": "stdout",
          "text": [
            "tensor([[ 1,  0,  1],\n",
            "        [ 1,  0,  1],\n",
            "        [12,  0,  1],\n",
            "        [12,  0,  1],\n",
            "        [12,  0,  1],\n",
            "        [ 1,  0,  0],\n",
            "        [12,  0,  1],\n",
            "        [ 1,  0,  0],\n",
            "        [12,  0,  1],\n",
            "        [ 1,  0,  0],\n",
            "        [12,  0,  1],\n",
            "        [ 1,  0,  0],\n",
            "        [12,  0,  1],\n",
            "        [12,  0,  1],\n",
            "        [12,  0,  1],\n",
            "        [ 1,  0,  1],\n",
            "        [12,  0,  1],\n",
            "        [ 1,  0,  1],\n",
            "        [ 1,  0,  1],\n",
            "        [ 2,  0,  1],\n",
            "        [ 1,  0,  1],\n",
            "        [ 2,  0,  1],\n",
            "        [12,  0,  1],\n",
            "        [12,  0,  1],\n",
            "        [ 1,  0,  0],\n",
            "        [ 1,  0,  0]])\n"
          ]
        }
      ]
    },
    {
      "cell_type": "code",
      "source": [
        "all_atoms_counts = {}\n",
        "\n",
        "for smiles in logp_dataset['SMILES']:\n",
        "  smiles_graph = torch_geometric.utils.smiles.from_smiles(smiles)\n",
        "\n",
        "  graph_atoms = smiles_graph.x[:,0]\n",
        "\n",
        "  atoms, counts = np.unique(graph_atoms, return_counts=True)\n",
        "\n",
        "  for i, atom in enumerate(atoms):\n",
        "    if atom not in all_atoms_counts:\n",
        "      all_atoms_counts[atom] = counts[i]\n",
        "    else:\n",
        "      all_atoms_counts[atom] += counts[i]\n",
        "    \n",
        "all_atoms_counts"
      ],
      "metadata": {
        "colab": {
          "base_uri": "https://localhost:8080/"
        },
        "id": "lj1K7o7fSfTG",
        "outputId": "6cd62523-666f-41d1-df4d-62ebf4306921"
      },
      "execution_count": 50,
      "outputs": [
        {
          "output_type": "execute_result",
          "data": {
            "text/plain": [
              "{6: 197242,\n",
              " 8: 36192,\n",
              " 9: 2992,\n",
              " 7: 23586,\n",
              " 15: 450,\n",
              " 17: 6369,\n",
              " 16: 3274,\n",
              " 53: 265,\n",
              " 35: 938,\n",
              " 1: 19,\n",
              " 14: 1,\n",
              " 50: 1,\n",
              " 74: 11,\n",
              " 11: 5,\n",
              " 19: 1}"
            ]
          },
          "metadata": {},
          "execution_count": 50
        }
      ]
    }
  ]
}
